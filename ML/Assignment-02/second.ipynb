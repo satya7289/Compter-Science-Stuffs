{
 "cells": [
  {
   "cell_type": "code",
   "execution_count": 1,
   "metadata": {},
   "outputs": [
    {
     "data": {
      "text/html": [
       "<div>\n",
       "<style scoped>\n",
       "    .dataframe tbody tr th:only-of-type {\n",
       "        vertical-align: middle;\n",
       "    }\n",
       "\n",
       "    .dataframe tbody tr th {\n",
       "        vertical-align: top;\n",
       "    }\n",
       "\n",
       "    .dataframe thead th {\n",
       "        text-align: right;\n",
       "    }\n",
       "</style>\n",
       "<table border=\"1\" class=\"dataframe\">\n",
       "  <thead>\n",
       "    <tr style=\"text-align: right;\">\n",
       "      <th></th>\n",
       "      <th>player_id</th>\n",
       "      <th>player_name</th>\n",
       "      <th>total_match</th>\n",
       "      <th>total_run</th>\n",
       "    </tr>\n",
       "  </thead>\n",
       "  <tbody>\n",
       "    <tr>\n",
       "      <th>0</th>\n",
       "      <td>1</td>\n",
       "      <td>JNMFZA</td>\n",
       "      <td>459</td>\n",
       "      <td>1788</td>\n",
       "    </tr>\n",
       "    <tr>\n",
       "      <th>1</th>\n",
       "      <td>2</td>\n",
       "      <td>FQWZHD</td>\n",
       "      <td>166</td>\n",
       "      <td>263</td>\n",
       "    </tr>\n",
       "    <tr>\n",
       "      <th>2</th>\n",
       "      <td>3</td>\n",
       "      <td>LTPWAJ</td>\n",
       "      <td>473</td>\n",
       "      <td>582</td>\n",
       "    </tr>\n",
       "    <tr>\n",
       "      <th>3</th>\n",
       "      <td>4</td>\n",
       "      <td>VYKXQS</td>\n",
       "      <td>494</td>\n",
       "      <td>860</td>\n",
       "    </tr>\n",
       "    <tr>\n",
       "      <th>4</th>\n",
       "      <td>5</td>\n",
       "      <td>APSAAH</td>\n",
       "      <td>408</td>\n",
       "      <td>451</td>\n",
       "    </tr>\n",
       "  </tbody>\n",
       "</table>\n",
       "</div>"
      ],
      "text/plain": [
       "   player_id player_name  total_match  total_run\n",
       "0          1      JNMFZA          459       1788\n",
       "1          2      FQWZHD          166        263\n",
       "2          3      LTPWAJ          473        582\n",
       "3          4      VYKXQS          494        860\n",
       "4          5      APSAAH          408        451"
      ]
     },
     "execution_count": 1,
     "metadata": {},
     "output_type": "execute_result"
    }
   ],
   "source": [
    "''' Create own Dataframe using pandas' constructor. \n",
    "Dataframe have column like row_no, player_id, player_name, match_id, run, total_run(in that particular match).'''\n",
    "\n",
    "import random\n",
    "import string\n",
    "import pandas as pd\n",
    "\n",
    "data = {\n",
    "    'player_id':[],\n",
    "    'player_name':[],\n",
    "    'total_match':[],\n",
    "    'total_run': [],\n",
    "}\n",
    "total_player = 1000\n",
    "max_match = 500\n",
    "for i in range(total_player):\n",
    "    data['player_id'].append(i+1)\n",
    "    data['player_name'].append(''.join(random.choices(string.ascii_uppercase, k=6)))\n",
    "    t_match = random.randint(0,max_match)\n",
    "    data['total_match'].append(t_match)\n",
    "    if random.randint(0,3):\n",
    "        data['total_run'].append(random.randint(t_match,2*t_match))\n",
    "    else:\n",
    "        data['total_run'].append(random.randint(0,4*t_match))\n",
    "        \n",
    "df = pd.DataFrame(data)\n",
    "df.head()"
   ]
  },
  {
   "cell_type": "code",
   "execution_count": 2,
   "metadata": {},
   "outputs": [
    {
     "name": "stdout",
     "output_type": "stream",
     "text": [
      "Printing row no 2\n",
      "   player_id player_name  total_match  total_run\n",
      "2          3      LTPWAJ          473        582\n",
      "\n",
      "Printing column `Player Name`\n",
      "0      JNMFZA\n",
      "1      FQWZHD\n",
      "2      LTPWAJ\n",
      "3      VYKXQS\n",
      "4      APSAAH\n",
      "        ...  \n",
      "995    QJQTUX\n",
      "996    GSJRMA\n",
      "997    QAUQGL\n",
      "998    ZHDOJN\n",
      "999    AYDPIV\n",
      "Name: player_name, Length: 1000, dtype: object\n"
     ]
    }
   ],
   "source": [
    "# Print a chosen record (row) or a chosen column (data field). \n",
    "\n",
    "print('Printing row no 2')\n",
    "print(df[2:3])\n",
    "print('\\nPrinting column `Player Name`')\n",
    "print(df['player_name'])"
   ]
  },
  {
   "cell_type": "code",
   "execution_count": 3,
   "metadata": {},
   "outputs": [
    {
     "name": "stdout",
     "output_type": "stream",
     "text": [
      "\n",
      "Print rows that satisfy a condition on one of the column entries and  then sort by run:\n",
      "     player_id player_name  total_match  total_run\n",
      "763        764      QFWPXF          416          0\n",
      "683        684      IZOGYL          260          5\n",
      "11          12      ZAKWFM          413         20\n",
      "110        111      LPULBR          332         25\n",
      "60          61      ZBPMQI          408         68\n",
      "..         ...         ...          ...        ...\n",
      "789        790      LPHPNS          471       1671\n",
      "479        480      KYWQJA          437       1707\n",
      "837        838      RRTIFS          458       1737\n",
      "923        924      KUFMBK          476       1783\n",
      "0            1      JNMFZA          459       1788\n",
      "\n",
      "[522 rows x 4 columns]\n"
     ]
    }
   ],
   "source": [
    "# Print rows that satisfy a condition on one of the column entries and  then sort by run\n",
    "match = 250\n",
    "d = df[(df['total_match']>=match)].sort_values(by=['total_run'])\n",
    "print('\\nPrint rows that satisfy a condition on one of the column entries and  then sort by run:')\n",
    "d.head()\n",
    "print(d)"
   ]
  },
  {
   "cell_type": "code",
   "execution_count": 4,
   "metadata": {},
   "outputs": [
    {
     "data": {
      "text/html": [
       "<div>\n",
       "<style scoped>\n",
       "    .dataframe tbody tr th:only-of-type {\n",
       "        vertical-align: middle;\n",
       "    }\n",
       "\n",
       "    .dataframe tbody tr th {\n",
       "        vertical-align: top;\n",
       "    }\n",
       "\n",
       "    .dataframe thead th {\n",
       "        text-align: right;\n",
       "    }\n",
       "</style>\n",
       "<table border=\"1\" class=\"dataframe\">\n",
       "  <thead>\n",
       "    <tr style=\"text-align: right;\">\n",
       "      <th></th>\n",
       "      <th>player_id</th>\n",
       "      <th>player_name</th>\n",
       "      <th>total_match</th>\n",
       "      <th>total_run</th>\n",
       "      <th>percentage</th>\n",
       "    </tr>\n",
       "  </thead>\n",
       "  <tbody>\n",
       "    <tr>\n",
       "      <th>0</th>\n",
       "      <td>1</td>\n",
       "      <td>JNMFZA</td>\n",
       "      <td>459</td>\n",
       "      <td>1788</td>\n",
       "      <td>25.67</td>\n",
       "    </tr>\n",
       "    <tr>\n",
       "      <th>1</th>\n",
       "      <td>2</td>\n",
       "      <td>FQWZHD</td>\n",
       "      <td>166</td>\n",
       "      <td>263</td>\n",
       "      <td>63.12</td>\n",
       "    </tr>\n",
       "    <tr>\n",
       "      <th>2</th>\n",
       "      <td>3</td>\n",
       "      <td>LTPWAJ</td>\n",
       "      <td>473</td>\n",
       "      <td>582</td>\n",
       "      <td>81.27</td>\n",
       "    </tr>\n",
       "    <tr>\n",
       "      <th>3</th>\n",
       "      <td>4</td>\n",
       "      <td>VYKXQS</td>\n",
       "      <td>494</td>\n",
       "      <td>860</td>\n",
       "      <td>57.44</td>\n",
       "    </tr>\n",
       "    <tr>\n",
       "      <th>4</th>\n",
       "      <td>5</td>\n",
       "      <td>APSAAH</td>\n",
       "      <td>408</td>\n",
       "      <td>451</td>\n",
       "      <td>90.47</td>\n",
       "    </tr>\n",
       "  </tbody>\n",
       "</table>\n",
       "</div>"
      ],
      "text/plain": [
       "   player_id player_name  total_match  total_run percentage\n",
       "0          1      JNMFZA          459       1788      25.67\n",
       "1          2      FQWZHD          166        263      63.12\n",
       "2          3      LTPWAJ          473        582      81.27\n",
       "3          4      VYKXQS          494        860      57.44\n",
       "4          5      APSAAH          408        451      90.47"
      ]
     },
     "execution_count": 4,
     "metadata": {},
     "output_type": "execute_result"
    }
   ],
   "source": [
    "# compute the percentage toal match scored by the player with respect to the total run played by him\n",
    "\n",
    "def percentage(x,y):\n",
    "    if y==0:\n",
    "        return 'None'\n",
    "    return \"{:.2f}\".format((x/y)*100)\n",
    "\n",
    "df['percentage'] = df.apply(lambda x: percentage(x['total_match'],x['total_run']),axis=1)\n",
    "df.head()"
   ]
  },
  {
   "cell_type": "code",
   "execution_count": 5,
   "metadata": {},
   "outputs": [
    {
     "name": "stdout",
     "output_type": "stream",
     "text": [
      "\n",
      "adding new colum jersey to each player.\n"
     ]
    },
    {
     "data": {
      "text/html": [
       "<div>\n",
       "<style scoped>\n",
       "    .dataframe tbody tr th:only-of-type {\n",
       "        vertical-align: middle;\n",
       "    }\n",
       "\n",
       "    .dataframe tbody tr th {\n",
       "        vertical-align: top;\n",
       "    }\n",
       "\n",
       "    .dataframe thead th {\n",
       "        text-align: right;\n",
       "    }\n",
       "</style>\n",
       "<table border=\"1\" class=\"dataframe\">\n",
       "  <thead>\n",
       "    <tr style=\"text-align: right;\">\n",
       "      <th></th>\n",
       "      <th>player_id</th>\n",
       "      <th>player_name</th>\n",
       "      <th>total_match</th>\n",
       "      <th>total_run</th>\n",
       "      <th>percentage</th>\n",
       "      <th>jersey</th>\n",
       "    </tr>\n",
       "  </thead>\n",
       "  <tbody>\n",
       "    <tr>\n",
       "      <th>0</th>\n",
       "      <td>1</td>\n",
       "      <td>JNMFZA</td>\n",
       "      <td>459</td>\n",
       "      <td>1788</td>\n",
       "      <td>25.67</td>\n",
       "      <td>G</td>\n",
       "    </tr>\n",
       "    <tr>\n",
       "      <th>1</th>\n",
       "      <td>2</td>\n",
       "      <td>FQWZHD</td>\n",
       "      <td>166</td>\n",
       "      <td>263</td>\n",
       "      <td>63.12</td>\n",
       "      <td>B</td>\n",
       "    </tr>\n",
       "    <tr>\n",
       "      <th>2</th>\n",
       "      <td>3</td>\n",
       "      <td>LTPWAJ</td>\n",
       "      <td>473</td>\n",
       "      <td>582</td>\n",
       "      <td>81.27</td>\n",
       "      <td>G</td>\n",
       "    </tr>\n",
       "    <tr>\n",
       "      <th>3</th>\n",
       "      <td>4</td>\n",
       "      <td>VYKXQS</td>\n",
       "      <td>494</td>\n",
       "      <td>860</td>\n",
       "      <td>57.44</td>\n",
       "      <td>B</td>\n",
       "    </tr>\n",
       "    <tr>\n",
       "      <th>4</th>\n",
       "      <td>5</td>\n",
       "      <td>APSAAH</td>\n",
       "      <td>408</td>\n",
       "      <td>451</td>\n",
       "      <td>90.47</td>\n",
       "      <td>R</td>\n",
       "    </tr>\n",
       "  </tbody>\n",
       "</table>\n",
       "</div>"
      ],
      "text/plain": [
       "   player_id player_name  total_match  total_run percentage jersey\n",
       "0          1      JNMFZA          459       1788      25.67      G\n",
       "1          2      FQWZHD          166        263      63.12      B\n",
       "2          3      LTPWAJ          473        582      81.27      G\n",
       "3          4      VYKXQS          494        860      57.44      B\n",
       "4          5      APSAAH          408        451      90.47      R"
      ]
     },
     "execution_count": 5,
     "metadata": {},
     "output_type": "execute_result"
    }
   ],
   "source": [
    "# Add a new column to the Dataframe. For example, you may want to add the number written on the player's jersey. \n",
    "jersey = {}\n",
    "for i in range(total_player):\n",
    "    jersey[i+1] = random.choice(['R','B','G','Y','V'])\n",
    "    \n",
    "df['jersey'] = df['player_id'].map(jersey)\n",
    "print('\\nadding new colum jersey to each player.')\n",
    "df.head()"
   ]
  },
  {
   "cell_type": "code",
   "execution_count": 6,
   "metadata": {},
   "outputs": [],
   "source": [
    "# Export the Dataframe to a file in pickle format and save it as a file\n",
    "\n",
    "df.to_pickle('./data.fkl')"
   ]
  },
  {
   "cell_type": "code",
   "execution_count": null,
   "metadata": {},
   "outputs": [],
   "source": []
  },
  {
   "cell_type": "code",
   "execution_count": 7,
   "metadata": {},
   "outputs": [
    {
     "data": {
      "text/html": [
       "<div>\n",
       "<style scoped>\n",
       "    .dataframe tbody tr th:only-of-type {\n",
       "        vertical-align: middle;\n",
       "    }\n",
       "\n",
       "    .dataframe tbody tr th {\n",
       "        vertical-align: top;\n",
       "    }\n",
       "\n",
       "    .dataframe thead th {\n",
       "        text-align: right;\n",
       "    }\n",
       "</style>\n",
       "<table border=\"1\" class=\"dataframe\">\n",
       "  <thead>\n",
       "    <tr style=\"text-align: right;\">\n",
       "      <th></th>\n",
       "      <th>player_id</th>\n",
       "      <th>player_name</th>\n",
       "      <th>total_match</th>\n",
       "      <th>total_run</th>\n",
       "      <th>percentage</th>\n",
       "      <th>jersey</th>\n",
       "    </tr>\n",
       "  </thead>\n",
       "  <tbody>\n",
       "    <tr>\n",
       "      <th>0</th>\n",
       "      <td>1</td>\n",
       "      <td>JNMFZA</td>\n",
       "      <td>459</td>\n",
       "      <td>1788</td>\n",
       "      <td>25.67</td>\n",
       "      <td>G</td>\n",
       "    </tr>\n",
       "    <tr>\n",
       "      <th>1</th>\n",
       "      <td>2</td>\n",
       "      <td>FQWZHD</td>\n",
       "      <td>166</td>\n",
       "      <td>263</td>\n",
       "      <td>63.12</td>\n",
       "      <td>B</td>\n",
       "    </tr>\n",
       "    <tr>\n",
       "      <th>2</th>\n",
       "      <td>3</td>\n",
       "      <td>LTPWAJ</td>\n",
       "      <td>473</td>\n",
       "      <td>582</td>\n",
       "      <td>81.27</td>\n",
       "      <td>G</td>\n",
       "    </tr>\n",
       "    <tr>\n",
       "      <th>3</th>\n",
       "      <td>4</td>\n",
       "      <td>VYKXQS</td>\n",
       "      <td>494</td>\n",
       "      <td>860</td>\n",
       "      <td>57.44</td>\n",
       "      <td>B</td>\n",
       "    </tr>\n",
       "    <tr>\n",
       "      <th>4</th>\n",
       "      <td>5</td>\n",
       "      <td>APSAAH</td>\n",
       "      <td>408</td>\n",
       "      <td>451</td>\n",
       "      <td>90.47</td>\n",
       "      <td>R</td>\n",
       "    </tr>\n",
       "  </tbody>\n",
       "</table>\n",
       "</div>"
      ],
      "text/plain": [
       "   player_id player_name  total_match  total_run percentage jersey\n",
       "0          1      JNMFZA          459       1788      25.67      G\n",
       "1          2      FQWZHD          166        263      63.12      B\n",
       "2          3      LTPWAJ          473        582      81.27      G\n",
       "3          4      VYKXQS          494        860      57.44      B\n",
       "4          5      APSAAH          408        451      90.47      R"
      ]
     },
     "execution_count": 7,
     "metadata": {},
     "output_type": "execute_result"
    }
   ],
   "source": [
    "# Read the pickle file back to the program.\n",
    "\n",
    "data_set = pd.read_pickle('./data.fkl')\n",
    "data_set.head()"
   ]
  },
  {
   "cell_type": "code",
   "execution_count": null,
   "metadata": {},
   "outputs": [],
   "source": []
  },
  {
   "cell_type": "code",
   "execution_count": 8,
   "metadata": {},
   "outputs": [
    {
     "data": {
      "image/png": "[encoded data removed]",
      "text/plain": [
       "<Figure size 432x288 with 1 Axes>"
      ]
     },
     "metadata": {
      "needs_background": "light"
     },
     "output_type": "display_data"
    }
   ],
   "source": [
    "'''Use matplotlib library to make a scatter plot of columns that contain numeric\n",
    "data. Provide labels to the axes. '''\n",
    "\n",
    "import matplotlib.pyplot as plt\n",
    "import numpy as np\n",
    "\n",
    "X= data_set['total_match'].values\n",
    "Y = data_set['total_run'].values\n",
    "\n",
    "mean_x = np.mean(X)\n",
    "mean_y = np.mean(Y)\n",
    "\n",
    "n = len(X)\n",
    "\n",
    "plt.scatter(X,Y,label='scatter')\n",
    "plt.xlabel('total match')\n",
    "plt.ylabel('total run')\n",
    "plt.legend()\n",
    "plt.show()"
   ]
  },
  {
   "cell_type": "code",
   "execution_count": 9,
   "metadata": {},
   "outputs": [
    {
     "name": "stdout",
     "output_type": "stream",
     "text": [
      "Coefficients are:  -1.2902072472050463 1.6545153179660361\n"
     ]
    }
   ],
   "source": [
    "''' Implement linear regression to model the dependency between two variables - the predictor total run and target run'''\n",
    "# LINEAR REGRESSION USING THE FORMULA\n",
    "\n",
    "'''\n",
    "using formulla for cal w0 and w1 obtained by minizing the  ERM by differnciating with respect to w0 and w1 respectively\n",
    "m = ((x-mean_x)*(y-mean_y)) / ((x-mean_x)^2)\n",
    "c = mean_y - m*mean_x\n",
    "'''\n",
    "numer = 0\n",
    "denom = 0\n",
    "for i in range(n):\n",
    "    numer += (X[i] - mean_x) * (Y[i] - mean_y)\n",
    "    denom += (X[i]- mean_x) **2\n",
    "\n",
    "w1  = numer/denom\n",
    "w0  = mean_y - (w1*mean_x)\n",
    "\n",
    "# print coefficient\n",
    "print('Coefficients are: ',w0,w1)"
   ]
  },
  {
   "cell_type": "code",
   "execution_count": 10,
   "metadata": {},
   "outputs": [
    {
     "data": {
      "image/png": "[encoded data removed]",
      "text/plain": [
       "<Figure size 432x288 with 1 Axes>"
      ]
     },
     "metadata": {
      "needs_background": "light"
     },
     "output_type": "display_data"
    }
   ],
   "source": [
    "# Plot the linear regression line\n",
    "max_x = np.max(X)\n",
    "min_x = np.min(X)\n",
    "\n",
    "x = np.linspace(min_x,max_x)\n",
    "y = w0 + w1*x\n",
    "\n",
    "# ploting scatter line\n",
    "plt.scatter(X,Y, label='scatter')\n",
    "\n",
    "# ploting regression line\n",
    "plt.plot(x,y,color='red', label='Regression line')\n",
    "\n",
    "\n",
    "plt.xlabel('total run')\n",
    "plt.ylabel('Run')\n",
    "plt.legend()\n",
    "plt.show()"
   ]
  },
  {
   "cell_type": "code",
   "execution_count": 11,
   "metadata": {},
   "outputs": [
    {
     "name": "stdout",
     "output_type": "stream",
     "text": [
      "scores are  0.570774279913185\n"
     ]
    }
   ],
   "source": [
    "# R^2 method to check correctness\n",
    "'''\n",
    "r^2 = ((Yp - mean_y)^2) / ((Y - mean_y)^2)\n",
    "'''\n",
    "ss_t = 0\n",
    "ss_r = 0\n",
    "for i in range(n):\n",
    "    y_pred = w0 + w1 * X[i]\n",
    "    ss_t += (Y[i] - mean_y) **2\n",
    "    ss_r += (Y[i] - y_pred) **2\n",
    "r2 = 1 - (ss_r/ss_t)\n",
    "print('scores are ',r2)"
   ]
  },
  {
   "cell_type": "code",
   "execution_count": 12,
   "metadata": {},
   "outputs": [
    {
     "name": "stdout",
     "output_type": "stream",
     "text": [
      "Coefficients are:  [ 1.65451532 -1.29020725]\n"
     ]
    }
   ],
   "source": [
    "# LINEAR REGRESSION USING THE INVERSE METHOD\n",
    "'''\n",
    "using formulla for cal w0 and w1 obtained by minizing the  ERM by differnciating with respect to w0 and w1 respectively\n",
    "m = ((x-mean_x)*(y-mean_y)) / ((x-mean_x)^2)\n",
    "c = mean_y - m*mean_x\n",
    "'''\n",
    "import numpy as np\n",
    "X_reshape = X.reshape((n,1))\n",
    "x_reshape =np.append(X_reshape, [[1] for _ in range(len(X))],axis=1)\n",
    "\n",
    "\n",
    "# finding coefficients (Implement (X * Xt)^-1.Xt.Y)\n",
    "x_transpose = np.transpose(x_reshape)\n",
    "x_transpose_x = np.matmul(x_transpose,x_reshape)\n",
    "x_transpose_inverse = np.linalg.inv(x_transpose_x)\n",
    "x_transpose_inverse_transpose = np.dot(x_transpose_inverse,x_transpose)\n",
    "coeff = np.dot(x_transpose_inverse_transpose,Y)\n",
    "w1,w0 = coeff[0], coeff[1]\n",
    "print('Coefficients are: ',coeff)"
   ]
  },
  {
   "cell_type": "code",
   "execution_count": 13,
   "metadata": {},
   "outputs": [
    {
     "data": {
      "image/png": "[encoded data removed]",
      "text/plain": [
       "<Figure size 432x288 with 1 Axes>"
      ]
     },
     "metadata": {
      "needs_background": "light"
     },
     "output_type": "display_data"
    }
   ],
   "source": [
    "# Plot the linear regression line\n",
    "max_x = np.max(X)\n",
    "min_x = np.min(X)\n",
    "\n",
    "x = np.linspace(min_x,max_x)\n",
    "y = w0 + w1*x\n",
    "\n",
    "# ploting scatter line\n",
    "plt.scatter(X,Y, label='scatter')\n",
    "\n",
    "# ploting regression line\n",
    "plt.plot(x,y,color='red', label='Regression line')\n",
    "\n",
    "\n",
    "plt.xlabel('total run')\n",
    "plt.ylabel('Run')\n",
    "plt.legend()\n",
    "plt.show()"
   ]
  },
  {
   "cell_type": "code",
   "execution_count": 14,
   "metadata": {},
   "outputs": [
    {
     "name": "stdout",
     "output_type": "stream",
     "text": [
      "coefficients are:  [1.65451532]\n",
      "scores are  0.5707742799131845\n"
     ]
    }
   ],
   "source": [
    "# LINEAR REGRESSION USING THE SKLEARN\n",
    "\n",
    "from sklearn.linear_model import LinearRegression\n",
    "from sklearn.metrics import mean_squared_error\n",
    "\n",
    "X = X.reshape((n,1))\n",
    "\n",
    "# create model\n",
    "reg = LinearRegression()\n",
    "\n",
    "# fitting training data\n",
    "reg = reg.fit(X,Y)\n",
    "\n",
    "# Y prediction\n",
    "y_pred = reg.predict(X)\n",
    "\n",
    "# cal R2 error\n",
    "r2_score = reg.score(X,Y)\n",
    "\n",
    "print('coefficients are: ', reg.coef_)\n",
    "print('scores are ',r2_score)"
   ]
  },
  {
   "cell_type": "code",
   "execution_count": null,
   "metadata": {},
   "outputs": [],
   "source": []
  },
  {
   "cell_type": "code",
   "execution_count": null,
   "metadata": {},
   "outputs": [],
   "source": []
  }
 ],
 "metadata": {
  "kernelspec": {
   "display_name": "Python 3",
   "language": "python",
   "name": "python3"
  },
  "language_info": {
   "codemirror_mode": {
    "name": "ipython",
    "version": 3
   },
   "file_extension": ".py",
   "mimetype": "text/x-python",
   "name": "python",
   "nbconvert_exporter": "python",
   "pygments_lexer": "ipython3",
   "version": "3.8.5"
  }
 },
 "nbformat": 4,
 "nbformat_minor": 4
}

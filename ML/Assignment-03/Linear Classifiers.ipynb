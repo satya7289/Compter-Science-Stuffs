{
 "cells": [
  {
   "cell_type": "markdown",
   "metadata": {},
   "source": [
    "# Assignment 3: Linear Classifiers"
   ]
  },
  {
   "cell_type": "markdown",
   "metadata": {},
   "source": [
    "### 1. Import Libraries"
   ]
  },
  {
   "cell_type": "code",
   "execution_count": 1,
   "metadata": {},
   "outputs": [],
   "source": [
    "import pandas as pd\n",
    "import numpy as np\n",
    "\n",
    "import seaborn as sns\n",
    "import matplotlib.pyplot as plt\n",
    "\n",
    "from sklearn.model_selection import train_test_split\n",
    "from sklearn.linear_model import Perceptron\n",
    "from sklearn.metrics import accuracy_score, confusion_matrix\n",
    "from sklearn.linear_model import LogisticRegression\n",
    "from sklearn.svm import SVC\n",
    "from sklearn.linear_model import SGDClassifier\n",
    "from sklearn.preprocessing import StandardScaler\n",
    "from sklearn.pipeline import make_pipeline"
   ]
  },
  {
   "cell_type": "markdown",
   "metadata": {},
   "source": [
    "### 2. Read Dataset for Heart patients"
   ]
  },
  {
   "cell_type": "code",
   "execution_count": 2,
   "metadata": {},
   "outputs": [
    {
     "data": {
      "text/html": [
       "<div>\n",
       "<style scoped>\n",
       "    .dataframe tbody tr th:only-of-type {\n",
       "        vertical-align: middle;\n",
       "    }\n",
       "\n",
       "    .dataframe tbody tr th {\n",
       "        vertical-align: top;\n",
       "    }\n",
       "\n",
       "    .dataframe thead th {\n",
       "        text-align: right;\n",
       "    }\n",
       "</style>\n",
       "<table border=\"1\" class=\"dataframe\">\n",
       "  <thead>\n",
       "    <tr style=\"text-align: right;\">\n",
       "      <th></th>\n",
       "      <th>age</th>\n",
       "      <th>sex</th>\n",
       "      <th>cp</th>\n",
       "      <th>trestbps</th>\n",
       "      <th>chol</th>\n",
       "      <th>fbs</th>\n",
       "      <th>restecg</th>\n",
       "      <th>thalach</th>\n",
       "      <th>exang</th>\n",
       "      <th>oldpeak</th>\n",
       "      <th>slope</th>\n",
       "      <th>ca</th>\n",
       "      <th>thal</th>\n",
       "      <th>target</th>\n",
       "    </tr>\n",
       "  </thead>\n",
       "  <tbody>\n",
       "    <tr>\n",
       "      <th>0</th>\n",
       "      <td>63</td>\n",
       "      <td>1</td>\n",
       "      <td>3</td>\n",
       "      <td>145</td>\n",
       "      <td>233</td>\n",
       "      <td>1</td>\n",
       "      <td>0</td>\n",
       "      <td>150</td>\n",
       "      <td>0</td>\n",
       "      <td>2.3</td>\n",
       "      <td>0</td>\n",
       "      <td>0</td>\n",
       "      <td>1</td>\n",
       "      <td>1</td>\n",
       "    </tr>\n",
       "    <tr>\n",
       "      <th>1</th>\n",
       "      <td>37</td>\n",
       "      <td>1</td>\n",
       "      <td>2</td>\n",
       "      <td>130</td>\n",
       "      <td>250</td>\n",
       "      <td>0</td>\n",
       "      <td>1</td>\n",
       "      <td>187</td>\n",
       "      <td>0</td>\n",
       "      <td>3.5</td>\n",
       "      <td>0</td>\n",
       "      <td>0</td>\n",
       "      <td>2</td>\n",
       "      <td>1</td>\n",
       "    </tr>\n",
       "    <tr>\n",
       "      <th>2</th>\n",
       "      <td>41</td>\n",
       "      <td>0</td>\n",
       "      <td>1</td>\n",
       "      <td>130</td>\n",
       "      <td>204</td>\n",
       "      <td>0</td>\n",
       "      <td>0</td>\n",
       "      <td>172</td>\n",
       "      <td>0</td>\n",
       "      <td>1.4</td>\n",
       "      <td>2</td>\n",
       "      <td>0</td>\n",
       "      <td>2</td>\n",
       "      <td>1</td>\n",
       "    </tr>\n",
       "    <tr>\n",
       "      <th>3</th>\n",
       "      <td>56</td>\n",
       "      <td>1</td>\n",
       "      <td>1</td>\n",
       "      <td>120</td>\n",
       "      <td>236</td>\n",
       "      <td>0</td>\n",
       "      <td>1</td>\n",
       "      <td>178</td>\n",
       "      <td>0</td>\n",
       "      <td>0.8</td>\n",
       "      <td>2</td>\n",
       "      <td>0</td>\n",
       "      <td>2</td>\n",
       "      <td>1</td>\n",
       "    </tr>\n",
       "    <tr>\n",
       "      <th>4</th>\n",
       "      <td>57</td>\n",
       "      <td>0</td>\n",
       "      <td>0</td>\n",
       "      <td>120</td>\n",
       "      <td>354</td>\n",
       "      <td>0</td>\n",
       "      <td>1</td>\n",
       "      <td>163</td>\n",
       "      <td>1</td>\n",
       "      <td>0.6</td>\n",
       "      <td>2</td>\n",
       "      <td>0</td>\n",
       "      <td>2</td>\n",
       "      <td>1</td>\n",
       "    </tr>\n",
       "  </tbody>\n",
       "</table>\n",
       "</div>"
      ],
      "text/plain": [
       "   age  sex  cp  trestbps  chol  fbs  restecg  thalach  exang  oldpeak  slope  \\\n",
       "0   63    1   3       145   233    1        0      150      0      2.3      0   \n",
       "1   37    1   2       130   250    0        1      187      0      3.5      0   \n",
       "2   41    0   1       130   204    0        0      172      0      1.4      2   \n",
       "3   56    1   1       120   236    0        1      178      0      0.8      2   \n",
       "4   57    0   0       120   354    0        1      163      1      0.6      2   \n",
       "\n",
       "   ca  thal  target  \n",
       "0   0     1       1  \n",
       "1   0     2       1  \n",
       "2   0     2       1  \n",
       "3   0     2       1  \n",
       "4   0     2       1  "
      ]
     },
     "execution_count": 2,
     "metadata": {},
     "output_type": "execute_result"
    }
   ],
   "source": [
    "#Read the heart patient dataset\n",
    "df = pd.read_csv('heart.csv')\n",
    "df.head()"
   ]
  },
  {
   "cell_type": "markdown",
   "metadata": {},
   "source": [
    "### 3. Split the dataset into training set and test set at 70:30 ratio."
   ]
  },
  {
   "cell_type": "code",
   "execution_count": 3,
   "metadata": {},
   "outputs": [
    {
     "name": "stdout",
     "output_type": "stream",
     "text": [
      "Number of training dataset:  212\n",
      "Number of test dataset:  91\n"
     ]
    }
   ],
   "source": [
    "#Split the Dataset for training and testing @70:30 ratio\n",
    "df_train,df_test = train_test_split(df,train_size=0.7, test_size=0.3, random_state=42, shuffle=True)\n",
    "\n",
    "print('Number of training dataset: ', len(df_train))\n",
    "print('Number of test dataset: ', len(df_test))"
   ]
  },
  {
   "cell_type": "markdown",
   "metadata": {},
   "source": [
    "### 4. Seperate the dataset into X and Y where X referes to the Actual dataset and Y referes to the target dataset, which will we predicting by applying different Linear classifiers."
   ]
  },
  {
   "cell_type": "code",
   "execution_count": 4,
   "metadata": {},
   "outputs": [
    {
     "name": "stdout",
     "output_type": "stream",
     "text": [
      "For training...\n",
      "Total heart patient in the dataset:  115\n",
      "Total patient having no heart deseases:  97\n",
      "\n",
      "For testing...\n",
      "Total heart patient in the dataset:  50\n",
      "Total patient having no heart deseases:  41\n"
     ]
    }
   ],
   "source": [
    "#Drop the target column from test and training dataset\n",
    "X_train = df_train.drop(columns='target')\n",
    "X_test  = df_test.drop(columns='target')\n",
    "\n",
    "#Take the target column for the prediction\n",
    "Y_train = df_train['target']\n",
    "Y_test  = df_test['target']\n",
    "\n",
    "#Counting number of heart patient in different set\n",
    "total_train_heart_patient = Y_train[Y_train==1]\n",
    "total_train_no_heart_patient = Y_train[Y_train==0]\n",
    "\n",
    "total_test_heart_patient = Y_test[Y_test==1]\n",
    "total_test_no_heart_patient = Y_test[Y_test==0]\n",
    "\n",
    "print('For training...')\n",
    "print('Total heart patient in the dataset: ', len(total_train_heart_patient))\n",
    "print('Total patient having no heart deseases: ', len(total_train_no_heart_patient))\n",
    "print('\\nFor testing...')\n",
    "print('Total heart patient in the dataset: ', len(total_test_heart_patient))\n",
    "print('Total patient having no heart deseases: ', len(total_test_no_heart_patient))"
   ]
  },
  {
   "cell_type": "markdown",
   "metadata": {},
   "source": [
    "### 5.1 Traning the dataset using Half Space Classifier(Using Perceptron Algorithm)"
   ]
  },
  {
   "cell_type": "code",
   "execution_count": 5,
   "metadata": {},
   "outputs": [
    {
     "name": "stdout",
     "output_type": "stream",
     "text": [
      "Using perceptron algorithm...\n",
      "Accuracy: 73.63%\n"
     ]
    },
    {
     "data": {
      "image/png": "[encoded data removed]",
      "text/plain": [
       "<Figure size 432x288 with 2 Axes>"
      ]
     },
     "metadata": {
      "needs_background": "light"
     },
     "output_type": "display_data"
    }
   ],
   "source": [
    "random_state = 0\n",
    "tol = 1e-3\n",
    "\n",
    "#Build a model of Perceptron\n",
    "clf_pctn = Perceptron(tol=tol, random_state=random_state)\n",
    "\n",
    "#Training the X_train dataset\n",
    "clf_pctn.fit(X_train,Y_train)\n",
    "\n",
    "#Predicting the X_test(testing) Dataset\n",
    "y_pred = clf_pctn.predict(X_test)\n",
    "\n",
    "#Get the score/accuracy_score between y_pred and Y_test\n",
    "print('Using perceptron algorithm...')\n",
    "print(\"Accuracy: {0:.2f}%\".format(accuracy_score(Y_test,y_pred)*100))\n",
    "\n",
    "#Plot confusion matrix for checking how it is predicted\n",
    "cfu_matrix = confusion_matrix(Y_test,y_pred)\n",
    "ax = sns.heatmap(cfu_matrix/sum(cfu_matrix), annot=True,fmt='.2%', cmap='Blues')"
   ]
  },
  {
   "cell_type": "markdown",
   "metadata": {},
   "source": [
    "### 5.2 Training the dataset  using Logistic Regression (using inbuilt function)"
   ]
  },
  {
   "cell_type": "code",
   "execution_count": 6,
   "metadata": {},
   "outputs": [
    {
     "name": "stdout",
     "output_type": "stream",
     "text": [
      "Using Logistic Regression...\n",
      "Accuracy: 81.32%\n"
     ]
    },
    {
     "data": {
      "image/png": "[encoded data removed]",
      "text/plain": [
       "<Figure size 432x288 with 2 Axes>"
      ]
     },
     "metadata": {
      "needs_background": "light"
     },
     "output_type": "display_data"
    }
   ],
   "source": [
    "random_state = 0\n",
    "max_iter = 1000\n",
    "\n",
    "#Build a model of Logistic Regression\n",
    "clf_lgr = LogisticRegression(random_state=random_state, max_iter=max_iter)\n",
    "\n",
    "#Training the X_train dataset\n",
    "clf_lgr.fit(X_train,Y_train)\n",
    "\n",
    "#Predicting the X_test(testing) Dataset\n",
    "y_pred = clf_lgr.predict(X_test)\n",
    "\n",
    "#Get the score/accuracy_score between y_pred and Y_test\n",
    "print('Using Logistic Regression...')\n",
    "print(\"Accuracy: {0:.2f}%\".format(accuracy_score(Y_test,y_pred)*100))\n",
    "\n",
    "#Plot confusion matrix for checking how it is predicted\n",
    "cfu_matrix = confusion_matrix(Y_test,y_pred)\n",
    "ax = sns.heatmap(cfu_matrix/sum(cfu_matrix), annot=True,fmt='.2%', cmap='Blues')"
   ]
  },
  {
   "cell_type": "markdown",
   "metadata": {},
   "source": [
    "### 5.3 Training the dataset using SVM classifier (using a linear kernel)"
   ]
  },
  {
   "cell_type": "code",
   "execution_count": 7,
   "metadata": {},
   "outputs": [
    {
     "name": "stdout",
     "output_type": "stream",
     "text": [
      "Using SVM linear kernel...\n",
      "Accuracy: 81.32%\n"
     ]
    },
    {
     "data": {
      "image/png": "[encoded data removed]",
      "text/plain": [
       "<Figure size 432x288 with 2 Axes>"
      ]
     },
     "metadata": {
      "needs_background": "light"
     },
     "output_type": "display_data"
    }
   ],
   "source": [
    "random_state = 0\n",
    "kernel = 'linear'\n",
    "\n",
    "#Build a model of SVM with StandardScalar\n",
    "clf_svm_l = make_pipeline(StandardScaler(),SVC(random_state=random_state, kernel=kernel))\n",
    "\n",
    "#Training the X_train dataset\n",
    "clf_svm_l.fit(X_train,Y_train)\n",
    "\n",
    "#Predicting the X_test(testing) Dataset\n",
    "y_pred = clf_svm_l.predict(X_test)\n",
    "\n",
    "#Get the score/accuracy_score between y_pred and Y_test\n",
    "print('Using SVM linear kernel...')\n",
    "print(\"Accuracy: {0:.2f}%\".format(accuracy_score(Y_test,y_pred)*100))\n",
    "\n",
    "#Plot confusion matrix for checking how it is predicted\n",
    "cfu_matrix = confusion_matrix(Y_test,y_pred)\n",
    "ax = sns.heatmap(cfu_matrix/sum(cfu_matrix), annot=True,fmt='.2%', cmap='Blues')"
   ]
  },
  {
   "cell_type": "markdown",
   "metadata": {},
   "source": [
    "### 5.4 Training the dataset using SVM classifier (using a Polynomial kernel)"
   ]
  },
  {
   "cell_type": "code",
   "execution_count": 8,
   "metadata": {},
   "outputs": [
    {
     "name": "stdout",
     "output_type": "stream",
     "text": [
      "Using SVM Ploynomial kernel...\n",
      "Accuracy: 83.52%\n"
     ]
    },
    {
     "data": {
      "image/png": "[encoded data removed]",
      "text/plain": [
       "<Figure size 432x288 with 2 Axes>"
      ]
     },
     "metadata": {
      "needs_background": "light"
     },
     "output_type": "display_data"
    }
   ],
   "source": [
    "random_state = 0\n",
    "kernel = 'poly'\n",
    "\n",
    "#Build a model of SVM with StandardScalar\n",
    "clf_svm_p = make_pipeline(StandardScaler(), SVC(random_state=random_state, kernel=kernel))\n",
    "\n",
    "#Training the X_train dataset\n",
    "clf_svm_p.fit(X_train,Y_train)\n",
    "\n",
    "#Predicting the X_test(testing) Dataset\n",
    "y_pred = clf_svm_p.predict(X_test)\n",
    "\n",
    "#Get the score/accuracy_score between y_pred and Y_test\n",
    "print('Using SVM Ploynomial kernel...')\n",
    "print(\"Accuracy: {0:.2f}%\".format(accuracy_score(Y_test,y_pred)*100))\n",
    "\n",
    "#Plot confusion matrix for checking how it is predicted\n",
    "cfu_matrix = confusion_matrix(Y_test,y_pred)\n",
    "ax = sns.heatmap(cfu_matrix/sum(cfu_matrix), annot=True,fmt='.2%', cmap='Blues')"
   ]
  },
  {
   "cell_type": "markdown",
   "metadata": {},
   "source": [
    "### 5.5 Training the dataset using SVM classifier (using a Gaussian kernel)"
   ]
  },
  {
   "cell_type": "code",
   "execution_count": 9,
   "metadata": {},
   "outputs": [
    {
     "name": "stdout",
     "output_type": "stream",
     "text": [
      "Using SVM gussian kernel...\n",
      "Accuracy: 82.42%\n"
     ]
    },
    {
     "data": {
      "image/png": "[encoded data removed]",
      "text/plain": [
       "<Figure size 432x288 with 2 Axes>"
      ]
     },
     "metadata": {
      "needs_background": "light"
     },
     "output_type": "display_data"
    }
   ],
   "source": [
    "random_state = 0\n",
    "kernel = 'rbf'\n",
    "\n",
    "#Build a model of SVM with StandardScalar\n",
    "clf_svm_g = make_pipeline(StandardScaler(),SVC(random_state=random_state, kernel=kernel))\n",
    "\n",
    "#Training the X_train dataset\n",
    "clf_svm_g.fit(X_train,Y_train)\n",
    "\n",
    "#Predicting the X_test(testing) Dataset\n",
    "y_pred = clf_svm_g.predict(X_test)\n",
    "\n",
    "#Get the score/accuracy_score between y_pred and Y_test\n",
    "print('Using SVM gussian kernel...')\n",
    "print(\"Accuracy: {0:.2f}%\".format(accuracy_score(Y_test,y_pred)*100))\n",
    "\n",
    "#Plot confusion matrix for checking how it is predicted\n",
    "cfu_matrix = confusion_matrix(Y_test,y_pred)\n",
    "ax = sns.heatmap(cfu_matrix/sum(cfu_matrix), annot=True,fmt='.2%', cmap='Blues')"
   ]
  },
  {
   "cell_type": "markdown",
   "metadata": {},
   "source": [
    " ### 5.6 Training the dataset using Logistic Regression using the SGD procedure. "
   ]
  },
  {
   "cell_type": "code",
   "execution_count": 11,
   "metadata": {},
   "outputs": [
    {
     "name": "stdout",
     "output_type": "stream",
     "text": [
      "Using SGD classifier...\n",
      "Accuracy: 84.62%\n"
     ]
    },
    {
     "data": {
      "image/png": "[encoded data removed]",
      "text/plain": [
       "<Figure size 432x288 with 2 Axes>"
      ]
     },
     "metadata": {
      "needs_background": "light"
     },
     "output_type": "display_data"
    }
   ],
   "source": [
    "random_state = 0\n",
    "max_iter=1000\n",
    "tol=1e-3\n",
    "alpha=0.001\n",
    "from sklearn.metrics import confusion_matrix\n",
    "#Build a model of SGDClassifier with StandardScalar\n",
    "clf_svm_sgd = make_pipeline(StandardScaler(),SGDClassifier(max_iter=max_iter,alpha=alpha))\n",
    "\n",
    "#Training the X_train dataset\n",
    "clf_svm_sgd.fit(X_train,Y_train)\n",
    "\n",
    "#Predicting the X_test(testing) Dataset\n",
    "y_pred = clf_svm_sgd.predict(X_test)\n",
    "\n",
    "#Get the score/accuracy_score between y_pred and Y_test\n",
    "print('Using SGD classifier...')\n",
    "print(\"Accuracy: {0:.2f}%\".format(accuracy_score(Y_test,y_pred)*100))\n",
    "\n",
    "#Plot confusion matrix for checking how it is predicted\n",
    "cfu_matrix = confusion_matrix(Y_test,y_pred)\n",
    "ax = sns.heatmap(cfu_matrix/sum(cfu_matrix), annot=True,fmt='.2%', cmap='Blues')"
   ]
  },
  {
   "cell_type": "code",
   "execution_count": null,
   "metadata": {},
   "outputs": [],
   "source": []
  }
 ],
 "metadata": {
  "kernelspec": {
   "display_name": "Python 3",
   "language": "python",
   "name": "python3"
  },
  "language_info": {
   "codemirror_mode": {
    "name": "ipython",
    "version": 3
   },
   "file_extension": ".py",
   "mimetype": "text/x-python",
   "name": "python",
   "nbconvert_exporter": "python",
   "pygments_lexer": "ipython3",
   "version": "3.8.5"
  }
 },
 "nbformat": 4,
 "nbformat_minor": 4
}

{
 "cells": [
  {
   "cell_type": "code",
   "execution_count": 5,
   "metadata": {},
   "outputs": [
    {
     "name": "stdout",
     "output_type": "stream",
     "text": [
      "Sample Dictionary {'1': 'satya', '2': 'prakash', '3': 'sharma'}\n",
      "Sample list [1, 2, 3, 4, 5, 6, 7, 8, 9, 10]\n",
      "-------------------------------\n",
      "Getting the dictionary of key 1-> satya\n",
      "2nd index's value from left 0 based index-> 3\n",
      "2nd index's value from the right 1 based index-> 9\n",
      "list's value from 2 index to 8 index-> [3, 4, 5, 6, 7, 8]\n",
      "Reverse the list-> [10, 9, 8, 7, 6, 5, 4, 3, 2, 1]\n"
     ]
    }
   ],
   "source": [
    "'''1) Use Python lists and dictionaries. How to do slicing of lists using the colon (:) specifications. '''\n",
    "# Initializing the a sample dictionay and list\n",
    "dic = {'1':'satya', '2':'prakash', '3':'sharma'}\n",
    "lis = [i+1 for i in range(10)]\n",
    "\n",
    "#printing the dict and list\n",
    "print(\"Sample Dictionary\", dic)\n",
    "print(\"Sample list\", lis)\n",
    "print(\"-------------------------------\")\n",
    "\n",
    "# We can simply get the dictionary value if we know the key.\n",
    "print('Getting the dictionary of key 1->', dic['1'])\n",
    "\n",
    "## Slicing of list using colon(:)\n",
    "# Get the list's value of specific left based index by list[i], it start with 0 based index\n",
    "print(\"2nd index's value from left 0 based index->\", lis[2])\n",
    "\n",
    "# Get the list's value from right based index by  list[-i], it start with 1 based index\n",
    "print(\"2nd index's value from the right 1 based index->\", lis[-2])\n",
    "\n",
    "# Get the list's sublist's by list[i:j] where i in inclusive and j is exclusive\n",
    "print(\"list's value from 2 index to 8 index->\", lis[2:8])\n",
    "\n",
    "# Reverse the list by list[::-1]\n",
    "print(\"Reverse the list->\", lis[::-1])"
   ]
  },
  {
   "cell_type": "code",
   "execution_count": null,
   "metadata": {},
   "outputs": [],
   "source": [
    "'''2) Create a DataFrame object from the data loaded from a dataset. '''\n"
   ]
  }
 ],
 "metadata": {
  "kernelspec": {
   "display_name": "Python 3",
   "language": "python",
   "name": "python3"
  },
  "language_info": {
   "codemirror_mode": {
    "name": "ipython",
    "version": 3
   },
   "file_extension": ".py",
   "mimetype": "text/x-python",
   "name": "python",
   "nbconvert_exporter": "python",
   "pygments_lexer": "ipython3",
   "version": "3.7.3"
  }
 },
 "nbformat": 4,
 "nbformat_minor": 2
}
